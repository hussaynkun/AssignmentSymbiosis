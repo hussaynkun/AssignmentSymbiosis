{
 "cells": [
  {
   "cell_type": "code",
   "execution_count": 1,
   "id": "55387deb",
   "metadata": {},
   "outputs": [
    {
     "name": "stdout",
     "output_type": "stream",
     "text": [
      "2002,2009,2016,2023,2037,2044,2051,2058,2072,2079,2086,2093,2107,2114,2121,2128,2142,2149,2156,2163,2177,2184,2191,2198,2212,2219,2226,2233,2247,2254,2261,2268,2282,2289,2296,2303,2317,2324,2331,2338,2352,2359,2366,2373,2387,2394,2401,2408,2422,2429,2436,2443,2457,2464,2471,2478,2492,2499,2506,2513,2527,2534,2541,2548,2562,2569,2576,2583,2597,2604,2611,2618,2632,2639,2646,2653,2667,2674,2681,2688,2702,2709,2716,2723,2737,2744,2751,2758,2772,2779,2786,2793,2807,2814,2821,2828,2842,2849,2856,2863,2877,2884,2891,2898,2912,2919,2926,2933,2947,2954,2961,2968,2982,2989,2996,3003,3017,3024,3031,3038,3052,3059,3066,3073,3087,3094,3101,3108,3122,3129,3136,3143,3157,3164,3171,3178,3192,3199\n"
     ]
    }
   ],
   "source": [
    "l = []\n",
    "\n",
    "for i in range(2000, 3201):\n",
    "    if i%7 == 0 and i % 5 !=0:\n",
    "        l.append(i)\n",
    "        \n",
    "print(','.join(map(str, l)))"
   ]
  },
  {
   "cell_type": "code",
   "execution_count": 2,
   "id": "14c528a9",
   "metadata": {},
   "outputs": [
    {
     "name": "stdout",
     "output_type": "stream",
     "text": [
      "Enter a sentence: How Are you Today?\n",
      "Uppercase letters:  3\n",
      "Lowercase letters:  11\n"
     ]
    }
   ],
   "source": [
    "a = input(\"Enter a sentence: \")\n",
    "\n",
    "U_case = 0\n",
    "L_case = 0\n",
    "\n",
    "for i in a:\n",
    "    if i.isupper():\n",
    "        U_case += 1\n",
    "    elif i.islower():\n",
    "        L_case += 1\n",
    "print(\"Uppercase letters: \", U_case)\n",
    "print(\"Lowercase letters: \", L_case)"
   ]
  },
  {
   "cell_type": "raw",
   "id": "37c4d5f3",
   "metadata": {},
   "source": [
    "3.\n",
    "How to reduce the dimension of dataset with 1000 column and 1 million rows to reduce computation time with device constraints\n",
    "Ans: one way to solve this would be feature selection and using information gain to pick best features for training the model."
   ]
  },
  {
   "cell_type": "raw",
   "id": "5be66d4a",
   "metadata": {},
   "source": [
    "4. "
   ]
  },
  {
   "cell_type": "raw",
   "id": "cef4f225",
   "metadata": {},
   "source": [
    "5:\n",
    "You are working on a time series dataset, Your manager has asked you to build a high accuracy model.You start with the decision tree algorithms, since you know it works fairly well on all kinds of data, Laater you tried a time series regresion model and got higher accuracy than decision tree. Can this happen? and Why?\n",
    "\n",
    "\n",
    "Ans: Yes, it's entirely possible for a time series regression model to outperform a decision tree.\n",
    "time series models split the data chronologically and can handle trends and seasonality when recognizing patterns and recurrences"
   ]
  },
  {
   "cell_type": "raw",
   "id": "b5630053",
   "metadata": {},
   "source": [
    "6: You came to know model is suffering from low bias and high variance. Which algorithm is used to tackle? and Why?\n",
    "\n",
    "Ans: Algorithms like Random forest that uses multiple models to reduce variance and Boosting that creates trees which correct the errors of previous ones."
   ]
  },
  {
   "cell_type": "code",
   "execution_count": 3,
   "id": "50ff9c3f",
   "metadata": {},
   "outputs": [
    {
     "name": "stdout",
     "output_type": "stream",
     "text": [
      "First Half: (1, 2, 3, 4, 5)\n",
      "Second Half: (6, 7, 8, 9, 10)\n"
     ]
    }
   ],
   "source": [
    "#13.\n",
    "#With a tuple (1,2,3,4,5,6,7,8,9,10), write a program to print the first half values in one line and the last half values in #other line\n",
    "\n",
    "\n",
    "\n",
    "my_tuple = (1, 2, 3, 4, 5, 6, 7, 8, 9, 10)\n",
    "\n",
    "midpoint = len(my_tuple) // 2\n",
    "print(\"First Half:\", my_tuple[:midpoint])\n",
    "print(\"Second Half:\", my_tuple[midpoint:])\n"
   ]
  },
  {
   "cell_type": "code",
   "execution_count": 4,
   "id": "38813c6c",
   "metadata": {},
   "outputs": [
    {
     "name": "stdout",
     "output_type": "stream",
     "text": [
      "List of 5 Random Even Numbers: [170, 112, 106, 182, 144]\n"
     ]
    }
   ],
   "source": [
    "#14.\n",
    "#write a program to generate randomly  a list with 5 even numbers between 100 and 200 inclusive\n",
    "import random\n",
    "\n",
    "def generate_random_even_numbers():\n",
    "    even_nums = []\n",
    "    while len(even_nums) < 5:\n",
    "        number = random.randint(100, 200)\n",
    "        if number % 2 == 0:\n",
    "            even_nums.append(number)\n",
    "    return even_nums\n",
    "\n",
    "random_even_numbers = generate_random_even_numbers()\n",
    "print(\"List of 5 Random Even Numbers:\", random_even_numbers)\n",
    "\n"
   ]
  },
  {
   "cell_type": "code",
   "execution_count": 5,
   "id": "f5b3235f",
   "metadata": {},
   "outputs": [
    {
     "name": "stdout",
     "output_type": "stream",
     "text": [
      "Person's Gender: Unknown\n",
      "Male's Gender: Male\n",
      "Female's Gender: Female\n"
     ]
    }
   ],
   "source": [
    "#15.Define a class person and two child classes, Male and female, all classes have method 'getGender' which can print \"male\" for #male class and 'female' for female class\n",
    "\n",
    "class Person:\n",
    "    def getGender(self):\n",
    "        return \"Unknown\"\n",
    "\n",
    "class Male(Person):\n",
    "    def getGender(self):\n",
    "        return \"Male\"\n",
    "\n",
    "class Female(Person):\n",
    "    def getGender(self):\n",
    "        return \"Female\"\n",
    "\n",
    "\n",
    "person = Person()\n",
    "male = Male()\n",
    "female = Female()\n",
    "\n",
    "print(\"Person's Gender:\", person.getGender())\n",
    "print(\"Male's Gender:\", male.getGender())  \n",
    "print(\"Female's Gender:\", female.getGender())\n"
   ]
  },
  {
   "cell_type": "code",
   "execution_count": null,
   "id": "e518d09c",
   "metadata": {},
   "outputs": [],
   "source": [
    "#Define a function which can print a dictionary where the keys are numbers between 1 and 20(both included) and values are square of keys\n",
    "\n",
    "def generate_square_dictionary():\n",
    "    square_dict = {}\n",
    "    for number in range(1, 21):\n",
    "        square_dict[number] = number ** 2\n",
    "    return square_dict\n",
    "\n",
    "result_dict = generate_square_dictionary()\n",
    "print(result_dict)\n"
   ]
  }
 ],
 "metadata": {
  "kernelspec": {
   "display_name": "Python 3 (ipykernel)",
   "language": "python",
   "name": "python3"
  },
  "language_info": {
   "codemirror_mode": {
    "name": "ipython",
    "version": 3
   },
   "file_extension": ".py",
   "mimetype": "text/x-python",
   "name": "python",
   "nbconvert_exporter": "python",
   "pygments_lexer": "ipython3",
   "version": "3.11.4"
  }
 },
 "nbformat": 4,
 "nbformat_minor": 5
}
